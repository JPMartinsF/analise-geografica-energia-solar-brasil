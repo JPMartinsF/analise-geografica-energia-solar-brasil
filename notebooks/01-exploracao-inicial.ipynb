{
 "cells": [
  {
   "cell_type": "markdown",
   "id": "6b99633a",
   "metadata": {},
   "source": [
    "# Exploração inicial dos dados"
   ]
  },
  {
   "cell_type": "code",
   "execution_count": 3,
   "id": "dd2111dd",
   "metadata": {},
   "outputs": [
    {
     "name": "stdout",
     "output_type": "stream",
     "text": [
      "First 5 rows:\n",
      "   ID COUNTRY     LON      LAT  ANNUAL   JAN   FEB   MAR   APR   MAY   JUN  \\\n",
      "0   1  Brasil -53.549 -33.7005    4444  6603  5747  4999  3597  2536  2172   \n",
      "1   2  Brasil -53.449 -33.7005    4446  6610  5735  4986  3588  2550  2167   \n",
      "2   3  Brasil -53.349 -33.7005    4452  6630  5732  4989  3572  2563  2170   \n",
      "3   4  Brasil -53.249 -33.7005    4468  6709  5820  5047  3575  2555  2151   \n",
      "4   5  Brasil -53.549 -33.6005    4454  6658  5771  5014  3620  2546  2159   \n",
      "\n",
      "    JUL   AUG   SEP   OCT   NOV   DEC  \\\n",
      "0  2292  2924  3784  5180  6453  7037   \n",
      "1  2280  2926  3810  5199  6470  7036   \n",
      "2  2279  2928  3820  5213  6465  7058   \n",
      "3  2247  2904  3818  5219  6476  7090   \n",
      "4  2271  2932  3797  5168  6443  7072   \n",
      "\n",
      "                                            geometry  \n",
      "0  POLYGON ((-53.59905 -33.75046, -53.59905 -33.6...  \n",
      "1  POLYGON ((-53.49905 -33.75046, -53.49905 -33.6...  \n",
      "2  POLYGON ((-53.39905 -33.75046, -53.39905 -33.6...  \n",
      "3  POLYGON ((-53.29905 -33.75046, -53.29905 -33.6...  \n",
      "4  POLYGON ((-53.59905 -33.65046, -53.59905 -33.5...  \n",
      "\n",
      "Columns:\n",
      "Index(['ID', 'COUNTRY', 'LON', 'LAT', 'ANNUAL', 'JAN', 'FEB', 'MAR', 'APR',\n",
      "       'MAY', 'JUN', 'JUL', 'AUG', 'SEP', 'OCT', 'NOV', 'DEC', 'geometry'],\n",
      "      dtype='object')\n",
      "\n",
      "Coordinate Reference System (CRS): EPSG:4674\n",
      "\n",
      "Quick plot for visualization:\n"
     ]
    },
    {
     "data": {
      "image/png": "[encoded data removed]",
      "text/plain": [
       "<Figure size 640x480 with 1 Axes>"
      ]
     },
     "metadata": {},
     "output_type": "display_data"
    }
   ],
   "source": [
    "import geopandas as gpd\n",
    "import matplotlib.pyplot as plt\n",
    "\n",
    "file_path = '../data/samples/GLOBAL_HORIZONTAL/global_horizontal_means.shp'\n",
    "\n",
    "try:\n",
    "    gdf = gpd.read_file(file_path)\n",
    "\n",
    "    print(\"First 5 rows:\")\n",
    "    print(gdf.head())\n",
    "\n",
    "    print(\"\\nColumns:\")\n",
    "    print(gdf.columns)\n",
    "    \n",
    "    print(f\"\\nCoordinate Reference System (CRS): {gdf.crs}\")\n",
    "\n",
    "    print(\"\\nQuick plot for visualization:\")\n",
    "    gdf.plot()\n",
    "    plt.title(\"GHI - Brazil\")\n",
    "    plt.show()\n",
    "\n",
    "except FileNotFoundError:\n",
    "    print(f\"Error: The file was not found at the path '{file_path}'\")\n",
    "except Exception as e:\n",
    "    print(f\"An unexpected error occurred: {e}\")"
   ]
  },
  {
   "cell_type": "code",
   "execution_count": null,
   "id": "10715c35",
   "metadata": {},
   "outputs": [],
   "source": []
  }
 ],
 "metadata": {
  "kernelspec": {
   "display_name": ".venv (3.13.5)",
   "language": "python",
   "name": "python3"
  },
  "language_info": {
   "codemirror_mode": {
    "name": "ipython",
    "version": 3
   },
   "file_extension": ".py",
   "mimetype": "text/x-python",
   "name": "python",
   "nbconvert_exporter": "python",
   "pygments_lexer": "ipython3",
   "version": "3.13.5"
  }
 },
 "nbformat": 4,
 "nbformat_minor": 5
}
